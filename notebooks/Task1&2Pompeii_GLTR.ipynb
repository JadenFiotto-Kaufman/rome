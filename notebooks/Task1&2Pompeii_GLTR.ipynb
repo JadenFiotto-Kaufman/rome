{
  "nbformat": 4,
  "nbformat_minor": 0,
  "metadata": {
    "colab": {
      "name": "Task1&2Pompeii-GLTR.ipynb",
      "provenance": []
    },
    "kernelspec": {
      "name": "python3",
      "display_name": "Python 3"
    },
    "language_info": {
      "name": "python"
    }
  },
  "cells": [
    {
      "cell_type": "code",
      "source": [
        "%%bash\n",
        "!(stat -t /usr/local/lib/*/dist-packages/google/colab > /dev/null 2>&1) && exit\n",
        "pip install git+https://github.com/davidbau/baukit > /dev/null\n",
        "pip install transformers"
      ],
      "metadata": {
        "colab": {
          "base_uri": "https://localhost:8080/"
        },
        "id": "j3AEXJjBlx4l",
        "outputId": "27f6868f-0e7e-45fb-88c2-2ff00fc1f88d"
      },
      "execution_count": null,
      "outputs": [
        {
          "output_type": "stream",
          "name": "stdout",
          "text": [
            "Looking in indexes: https://pypi.org/simple, https://us-python.pkg.dev/colab-wheels/public/simple/\n",
            "Requirement already satisfied: transformers in /usr/local/lib/python3.7/dist-packages (4.20.1)\n",
            "Requirement already satisfied: filelock in /usr/local/lib/python3.7/dist-packages (from transformers) (3.7.1)\n",
            "Requirement already satisfied: packaging>=20.0 in /usr/local/lib/python3.7/dist-packages (from transformers) (21.3)\n",
            "Requirement already satisfied: requests in /usr/local/lib/python3.7/dist-packages (from transformers) (2.23.0)\n",
            "Requirement already satisfied: numpy>=1.17 in /usr/local/lib/python3.7/dist-packages (from transformers) (1.21.6)\n",
            "Requirement already satisfied: tokenizers!=0.11.3,<0.13,>=0.11.1 in /usr/local/lib/python3.7/dist-packages (from transformers) (0.12.1)\n",
            "Requirement already satisfied: tqdm>=4.27 in /usr/local/lib/python3.7/dist-packages (from transformers) (4.64.0)\n",
            "Requirement already satisfied: pyyaml>=5.1 in /usr/local/lib/python3.7/dist-packages (from transformers) (6.0)\n",
            "Requirement already satisfied: importlib-metadata in /usr/local/lib/python3.7/dist-packages (from transformers) (4.11.4)\n",
            "Requirement already satisfied: huggingface-hub<1.0,>=0.1.0 in /usr/local/lib/python3.7/dist-packages (from transformers) (0.8.1)\n",
            "Requirement already satisfied: regex!=2019.12.17 in /usr/local/lib/python3.7/dist-packages (from transformers) (2022.6.2)\n",
            "Requirement already satisfied: typing-extensions>=3.7.4.3 in /usr/local/lib/python3.7/dist-packages (from huggingface-hub<1.0,>=0.1.0->transformers) (4.1.1)\n",
            "Requirement already satisfied: pyparsing!=3.0.5,>=2.0.2 in /usr/local/lib/python3.7/dist-packages (from packaging>=20.0->transformers) (3.0.9)\n",
            "Requirement already satisfied: zipp>=0.5 in /usr/local/lib/python3.7/dist-packages (from importlib-metadata->transformers) (3.8.0)\n",
            "Requirement already satisfied: chardet<4,>=3.0.2 in /usr/local/lib/python3.7/dist-packages (from requests->transformers) (3.0.4)\n",
            "Requirement already satisfied: urllib3!=1.25.0,!=1.25.1,<1.26,>=1.21.1 in /usr/local/lib/python3.7/dist-packages (from requests->transformers) (1.24.3)\n",
            "Requirement already satisfied: certifi>=2017.4.17 in /usr/local/lib/python3.7/dist-packages (from requests->transformers) (2022.6.15)\n",
            "Requirement already satisfied: idna<3,>=2.5 in /usr/local/lib/python3.7/dist-packages (from requests->transformers) (2.10)\n"
          ]
        },
        {
          "output_type": "stream",
          "name": "stderr",
          "text": [
            "  Running command git clone -q https://github.com/davidbau/baukit /tmp/pip-req-build-2yxmprll\n"
          ]
        }
      ]
    },
    {
      "cell_type": "code",
      "execution_count": null,
      "metadata": {
        "id": "DQiTwGk_S0nu"
      },
      "outputs": [],
      "source": [
        "import numpy as np\n",
        "import torch\n",
        "from transformers import (GPT2LMHeadModel, GPT2Tokenizer,\n",
        "                          BertTokenizer, BertForMaskedLM)\n",
        "from baukit import show"
      ]
    },
    {
      "cell_type": "code",
      "source": [
        "class AbstractLanguageChecker:\n",
        "    \"\"\"\n",
        "    Abstract Class that defines the Backend API of GLTR.\n",
        "    To extend the GLTR interface, you need to inherit this and\n",
        "    fill in the defined functions.\n",
        "    \"\"\"\n",
        "\n",
        "    def __init__(self):\n",
        "        \"\"\"\n",
        "        In the subclass, you need to load all necessary components\n",
        "        for the other functions.\n",
        "        Typically, this will comprise a tokenizer and a model.\n",
        "        \"\"\"\n",
        "        self.device = torch.device(\n",
        "            \"cuda\" if torch.cuda.is_available() else \"cpu\")\n",
        "\n",
        "    def check_probabilities(self, in_text, topk=40):\n",
        "        \"\"\"\n",
        "        Function that GLTR interacts with to check the probabilities of words\n",
        "        Params:\n",
        "        - in_text: str -- The text that you want to check\n",
        "        - topk: int -- Your desired truncation of the head of the distribution\n",
        "        Output:\n",
        "        - payload: dict -- The wrapper for results in this function, described below\n",
        "        Payload values\n",
        "        ==============\n",
        "        bpe_strings: list of str -- Each individual token in the text\n",
        "        real_topk: list of tuples -- (ranking, prob) of each token\n",
        "        pred_topk: list of list of tuple -- (word, prob) for all topk\n",
        "        \"\"\"\n",
        "        raise NotImplementedError\n",
        "\n",
        "    def postprocess(self, token):\n",
        "        \"\"\"\n",
        "        clean up the tokens from any special chars and encode\n",
        "        leading space by UTF-8 code '\\u0120', linebreak with UTF-8 code 266 '\\u010A'\n",
        "        :param token:  str -- raw token text\n",
        "        :return: str -- cleaned and re-encoded token text\n",
        "        \"\"\"\n",
        "        raise NotImplementedError"
      ],
      "metadata": {
        "id": "yqSf7oEKlsWK"
      },
      "execution_count": null,
      "outputs": []
    },
    {
      "cell_type": "code",
      "source": [
        "class LM(AbstractLanguageChecker):\n",
        "    def __init__(self, model_name_or_path=\"gpt2\"):\n",
        "        super(LM, self).__init__()\n",
        "        self.enc = GPT2Tokenizer.from_pretrained(model_name_or_path)\n",
        "        self.model = GPT2LMHeadModel.from_pretrained(model_name_or_path)\n",
        "        self.model.to(self.device)\n",
        "        self.model.eval()\n",
        "        self.start_token = self.enc(self.enc.bos_token, return_tensors='pt').data['input_ids'][0]\n",
        "        print(\"Loaded GPT-2 model!\")\n",
        "\n",
        "    def check_probabilities(self, in_text, topk=40):\n",
        "        # Process input\n",
        "        token_ids = self.enc(in_text, return_tensors='pt').data['input_ids'][0]\n",
        "        token_ids = torch.concat([self.start_token, token_ids])\n",
        "        # Forward through the model\n",
        "        output = self.model(token_ids.to(self.device))\n",
        "        all_logits = output.logits[:-1].detach().squeeze()\n",
        "        # construct target and pred\n",
        "        all_probs = torch.softmax(all_logits, dim=1)\n",
        "\n",
        "        y = token_ids[1:]\n",
        "        # Sort the predictions for each timestep\n",
        "        sorted_preds = torch.argsort(all_probs, dim=1, descending=True).cpu()\n",
        "        # [(pos, prob), ...]\n",
        "        real_topk_pos = list(\n",
        "            [int(np.where(sorted_preds[i] == y[i].item())[0][0])\n",
        "             for i in range(y.shape[0])])\n",
        "        real_topk_probs = all_probs[np.arange(\n",
        "            0, y.shape[0], 1), y].data.cpu().numpy().tolist()\n",
        "        real_topk_probs = list(map(lambda x: round(x, 5), real_topk_probs))\n",
        "\n",
        "        real_topk = list(zip(real_topk_pos, real_topk_probs))\n",
        "        # [str, str, ...]\n",
        "        bpe_strings = self.enc.convert_ids_to_tokens(token_ids[:])\n",
        "\n",
        "        bpe_strings = [self.postprocess(s) for s in bpe_strings]\n",
        "\n",
        "        topk_prob_values, topk_prob_inds = torch.topk(all_probs, k=topk, dim=1)\n",
        "\n",
        "        pred_topk = [list(zip(self.enc.convert_ids_to_tokens(topk_prob_inds[i]),\n",
        "                              topk_prob_values[i].data.cpu().numpy().tolist()\n",
        "                              )) for i in range(y.shape[0])]\n",
        "        pred_topk = [[(self.postprocess(t[0]), t[1]) for t in pred] for pred in pred_topk]\n",
        "\n",
        "        payload = {'bpe_strings': bpe_strings,\n",
        "                   'real_topk': real_topk,\n",
        "                   'pred_topk': pred_topk}\n",
        "        if torch.cuda.is_available():\n",
        "            torch.cuda.empty_cache()\n",
        "\n",
        "        return payload\n",
        "\n",
        "    def postprocess(self, token):\n",
        "        with_space = False\n",
        "        with_break = False\n",
        "        if token.startswith('Ġ'):\n",
        "          with_space = True\n",
        "          token = token[1:]\n",
        "        elif token.startswith('â'):\n",
        "          token = ' '\n",
        "        elif token.startswith('Ċ'):\n",
        "          token = ' '\n",
        "          with_break = True\n",
        "\n",
        "        token = '-' if token.startswith('â') else token\n",
        "        token = '“' if token.startswith('ľ') else token\n",
        "        token = '”' if token.startswith('Ŀ') else token\n",
        "        token = \"'\" if token.startswith('Ļ') else token\n",
        "\n",
        "        if with_space:\n",
        "          token = '\\u0120' + token\n",
        "        if with_break:\n",
        "          token = '\\u010A' + token\n",
        "        return token"
      ],
      "metadata": {
        "id": "wrz57VZQl8Hf"
      },
      "execution_count": null,
      "outputs": []
    },
    {
      "cell_type": "code",
      "source": [
        "raw_text = \"\"\"The largest city in France is Rome.\"\"\""
      ],
      "metadata": {
        "id": "sQi-y8cgmHCL"
      },
      "execution_count": null,
      "outputs": []
    },
    {
      "cell_type": "code",
      "source": [
        "lm = LM()\n",
        "payload = lm.check_probabilities(raw_text, topk=10)\n"
      ],
      "metadata": {
        "colab": {
          "base_uri": "https://localhost:8080/"
        },
        "id": "UfoL8D1KmAkI",
        "outputId": "14643472-bd7f-409d-e980-c751a16b5bdc"
      },
      "execution_count": null,
      "outputs": [
        {
          "output_type": "stream",
          "name": "stdout",
          "text": [
            "Loaded GPT-2 model!\n"
          ]
        }
      ]
    },
    {
      "cell_type": "code",
      "source": [
        "show(show.style(borderStyle=\"ridge\", fontSize=\"17px\", textAlign=\"left\"), [[\"Token position\", \"Tokenized word\", \"Top k position at the output layer\", \"Probability at the output layer\", \"Top 10 predicted words in this position\", \"Related predicted values\"]])\n",
        "for i in range(0,len(payload[\"real_topk\"])):\n",
        "  show(show.style(borderStyle=\"ridge\", textAlign=\"left\"), [[i, payload[\"bpe_strings\"][i+1], payload[\"real_topk\"][i][0], payload[\"real_topk\"][i][1], payload[\"pred_topk\"][i]]])"
      ],
      "metadata": {
        "colab": {
          "base_uri": "https://localhost:8080/",
          "height": 1000
        },
        "id": "K5cFFFJAzNgn",
        "outputId": "52c5aa7f-2dba-4daa-8e12-62e50d449f4b"
      },
      "execution_count": null,
      "outputs": [
        {
          "output_type": "display_data",
          "data": {
            "text/plain": [
              "<baukit.show.HtmlRepr at 0x7f1dc0394d90>"
            ],
            "text/html": [
              "<div style=\"display:flex;flex:1;flex-flow:column;gap:3px;border-style:ridge;font-size:17px;text-align:left\"><div style=\"display:flex;flex:1;flex-flow:row wrap;gap:inherit\"><div style=\"display:flex;flex:1;flex-flow:column;gap:inherit\">Token position</div><div style=\"display:flex;flex:1;flex-flow:column;gap:inherit\">Tokenized word</div><div style=\"display:flex;flex:1;flex-flow:column;gap:inherit\">Top k position at the output layer</div><div style=\"display:flex;flex:1;flex-flow:column;gap:inherit\">Probability at the output layer</div><div style=\"display:flex;flex:1;flex-flow:column;gap:inherit\">Top 10 predicted words in this position</div><div style=\"display:flex;flex:1;flex-flow:column;gap:inherit\">Related predicted values</div></div></div>"
            ]
          },
          "metadata": {}
        },
        {
          "output_type": "display_data",
          "data": {
            "text/plain": [
              "<baukit.show.HtmlRepr at 0x7f1dc0394c10>"
            ],
            "text/html": [
              "<div style=\"display:flex;flex:1;flex-flow:column;gap:3px;border-style:ridge;text-align:left\"><div style=\"display:flex;flex:1;flex-flow:row wrap;gap:inherit\"><div style=\"display:flex;flex:1;flex-flow:column;gap:inherit\">0</div><div style=\"display:flex;flex:1;flex-flow:column;gap:inherit\">The</div><div style=\"display:flex;flex:1;flex-flow:column;gap:inherit\">1</div><div style=\"display:flex;flex:1;flex-flow:column;gap:inherit\">0.0377</div><div style=\"display:flex;flex:1;flex-flow:column;gap:inherit\"><div style=\"display:flex;flex:1;flex-flow:row wrap;gap:inherit\"><div style=\"display:flex;flex:1;flex-flow:column;gap:inherit\">Ċ </div><div style=\"display:flex;flex:1;flex-flow:column;gap:inherit\">0.062299296259880066</div></div><div style=\"display:flex;flex:1;flex-flow:row wrap;gap:inherit\"><div style=\"display:flex;flex:1;flex-flow:column;gap:inherit\">The</div><div style=\"display:flex;flex:1;flex-flow:column;gap:inherit\">0.037699759006500244</div></div><div style=\"display:flex;flex:1;flex-flow:row wrap;gap:inherit\"><div style=\"display:flex;flex:1;flex-flow:column;gap:inherit\">&quot;</div><div style=\"display:flex;flex:1;flex-flow:column;gap:inherit\">0.024113167077302933</div></div><div style=\"display:flex;flex:1;flex-flow:row wrap;gap:inherit\"><div style=\"display:flex;flex:1;flex-flow:column;gap:inherit\">A</div><div style=\"display:flex;flex:1;flex-flow:column;gap:inherit\">0.019402990117669106</div></div><div style=\"display:flex;flex:1;flex-flow:row wrap;gap:inherit\"><div style=\"display:flex;flex:1;flex-flow:column;gap:inherit\">I</div><div style=\"display:flex;flex:1;flex-flow:column;gap:inherit\">0.018320972099900246</div></div><div style=\"display:flex;flex:1;flex-flow:row wrap;gap:inherit\"><div style=\"display:flex;flex:1;flex-flow:column;gap:inherit\">In</div><div style=\"display:flex;flex:1;flex-flow:column;gap:inherit\">0.011578366160392761</div></div><div style=\"display:flex;flex:1;flex-flow:row wrap;gap:inherit\"><div style=\"display:flex;flex:1;flex-flow:column;gap:inherit\">.</div><div style=\"display:flex;flex:1;flex-flow:column;gap:inherit\">0.011302001774311066</div></div><div style=\"display:flex;flex:1;flex-flow:row wrap;gap:inherit\"><div style=\"display:flex;flex:1;flex-flow:column;gap:inherit\">It</div><div style=\"display:flex;flex:1;flex-flow:column;gap:inherit\">0.009115670807659626</div></div><div style=\"display:flex;flex:1;flex-flow:row wrap;gap:inherit\"><div style=\"display:flex;flex:1;flex-flow:column;gap:inherit\">S</div><div style=\"display:flex;flex:1;flex-flow:column;gap:inherit\">0.008655931800603867</div></div><div style=\"display:flex;flex:1;flex-flow:row wrap;gap:inherit\"><div style=\"display:flex;flex:1;flex-flow:column;gap:inherit\">This</div><div style=\"display:flex;flex:1;flex-flow:column;gap:inherit\">0.007765641901642084</div></div></div></div></div>"
            ]
          },
          "metadata": {}
        },
        {
          "output_type": "display_data",
          "data": {
            "text/plain": [
              "<baukit.show.HtmlRepr at 0x7f1dc0394f10>"
            ],
            "text/html": [
              "<div style=\"display:flex;flex:1;flex-flow:column;gap:3px;border-style:ridge;text-align:left\"><div style=\"display:flex;flex:1;flex-flow:row wrap;gap:inherit\"><div style=\"display:flex;flex:1;flex-flow:column;gap:inherit\">1</div><div style=\"display:flex;flex:1;flex-flow:column;gap:inherit\">Ġlargest</div><div style=\"display:flex;flex:1;flex-flow:column;gap:inherit\">85</div><div style=\"display:flex;flex:1;flex-flow:column;gap:inherit\">0.00114</div><div style=\"display:flex;flex:1;flex-flow:column;gap:inherit\"><div style=\"display:flex;flex:1;flex-flow:row wrap;gap:inherit\"><div style=\"display:flex;flex:1;flex-flow:column;gap:inherit\">Ġfirst</div><div style=\"display:flex;flex:1;flex-flow:column;gap:inherit\">0.009997510351240635</div></div><div style=\"display:flex;flex:1;flex-flow:row wrap;gap:inherit\"><div style=\"display:flex;flex:1;flex-flow:column;gap:inherit\">ĠU</div><div style=\"display:flex;flex:1;flex-flow:column;gap:inherit\">0.008734365925192833</div></div><div style=\"display:flex;flex:1;flex-flow:row wrap;gap:inherit\"><div style=\"display:flex;flex:1;flex-flow:column;gap:inherit\">Ġfollowing</div><div style=\"display:flex;flex:1;flex-flow:column;gap:inherit\">0.008100493811070919</div></div><div style=\"display:flex;flex:1;flex-flow:row wrap;gap:inherit\"><div style=\"display:flex;flex:1;flex-flow:column;gap:inherit\">ĠUnited</div><div style=\"display:flex;flex:1;flex-flow:column;gap:inherit\">0.006307611707597971</div></div><div style=\"display:flex;flex:1;flex-flow:row wrap;gap:inherit\"><div style=\"display:flex;flex:1;flex-flow:column;gap:inherit\">ĠUS</div><div style=\"display:flex;flex:1;flex-flow:column;gap:inherit\">0.005452206823974848</div></div><div style=\"display:flex;flex:1;flex-flow:row wrap;gap:inherit\"><div style=\"display:flex;flex:1;flex-flow:column;gap:inherit\">ĠNew</div><div style=\"display:flex;flex:1;flex-flow:column;gap:inherit\">0.005212981719523668</div></div><div style=\"display:flex;flex:1;flex-flow:row wrap;gap:inherit\"><div style=\"display:flex;flex:1;flex-flow:column;gap:inherit\">Ġlatest</div><div style=\"display:flex;flex:1;flex-flow:column;gap:inherit\">0.005017944145947695</div></div><div style=\"display:flex;flex:1;flex-flow:row wrap;gap:inherit\"><div style=\"display:flex;flex:1;flex-flow:column;gap:inherit\">Ġworld</div><div style=\"display:flex;flex:1;flex-flow:column;gap:inherit\">0.0048816995695233345</div></div><div style=\"display:flex;flex:1;flex-flow:row wrap;gap:inherit\"><div style=\"display:flex;flex:1;flex-flow:column;gap:inherit\">Ġmost</div><div style=\"display:flex;flex:1;flex-flow:column;gap:inherit\">0.004776662215590477</div></div><div style=\"display:flex;flex:1;flex-flow:row wrap;gap:inherit\"><div style=\"display:flex;flex:1;flex-flow:column;gap:inherit\">Ġnew</div><div style=\"display:flex;flex:1;flex-flow:column;gap:inherit\">0.004550522193312645</div></div></div></div></div>"
            ]
          },
          "metadata": {}
        },
        {
          "output_type": "display_data",
          "data": {
            "text/plain": [
              "<baukit.show.HtmlRepr at 0x7f1dc0394d50>"
            ],
            "text/html": [
              "<div style=\"display:flex;flex:1;flex-flow:column;gap:3px;border-style:ridge;text-align:left\"><div style=\"display:flex;flex:1;flex-flow:row wrap;gap:inherit\"><div style=\"display:flex;flex:1;flex-flow:column;gap:inherit\">2</div><div style=\"display:flex;flex:1;flex-flow:column;gap:inherit\">Ġcity</div><div style=\"display:flex;flex:1;flex-flow:column;gap:inherit\">5</div><div style=\"display:flex;flex:1;flex-flow:column;gap:inherit\">0.01129</div><div style=\"display:flex;flex:1;flex-flow:column;gap:inherit\"><div style=\"display:flex;flex:1;flex-flow:row wrap;gap:inherit\"><div style=\"display:flex;flex:1;flex-flow:column;gap:inherit\">Ġand</div><div style=\"display:flex;flex:1;flex-flow:column;gap:inherit\">0.029658840969204903</div></div><div style=\"display:flex;flex:1;flex-flow:row wrap;gap:inherit\"><div style=\"display:flex;flex:1;flex-flow:column;gap:inherit\">Ġof</div><div style=\"display:flex;flex:1;flex-flow:column;gap:inherit\">0.016402052715420723</div></div><div style=\"display:flex;flex:1;flex-flow:row wrap;gap:inherit\"><div style=\"display:flex;flex:1;flex-flow:column;gap:inherit\">Ġsingle</div><div style=\"display:flex;flex:1;flex-flow:column;gap:inherit\">0.016196373850107193</div></div><div style=\"display:flex;flex:1;flex-flow:row wrap;gap:inherit\"><div style=\"display:flex;flex:1;flex-flow:column;gap:inherit\">,</div><div style=\"display:flex;flex:1;flex-flow:column;gap:inherit\">0.013465017080307007</div></div><div style=\"display:flex;flex:1;flex-flow:row wrap;gap:inherit\"><div style=\"display:flex;flex:1;flex-flow:column;gap:inherit\">-</div><div style=\"display:flex;flex:1;flex-flow:column;gap:inherit\">0.011759818531572819</div></div><div style=\"display:flex;flex:1;flex-flow:row wrap;gap:inherit\"><div style=\"display:flex;flex:1;flex-flow:column;gap:inherit\">Ġcity</div><div style=\"display:flex;flex:1;flex-flow:column;gap:inherit\">0.011286120861768723</div></div><div style=\"display:flex;flex:1;flex-flow:row wrap;gap:inherit\"><div style=\"display:flex;flex:1;flex-flow:column;gap:inherit\">Ġever</div><div style=\"display:flex;flex:1;flex-flow:column;gap:inherit\">0.010940803214907646</div></div><div style=\"display:flex;flex:1;flex-flow:row wrap;gap:inherit\"><div style=\"display:flex;flex:1;flex-flow:column;gap:inherit\">Ġgroup</div><div style=\"display:flex;flex:1;flex-flow:column;gap:inherit\">0.010849865153431892</div></div><div style=\"display:flex;flex:1;flex-flow:row wrap;gap:inherit\"><div style=\"display:flex;flex:1;flex-flow:column;gap:inherit\">ĠU</div><div style=\"display:flex;flex:1;flex-flow:column;gap:inherit\">0.010449030436575413</div></div><div style=\"display:flex;flex:1;flex-flow:row wrap;gap:inherit\"><div style=\"display:flex;flex:1;flex-flow:column;gap:inherit\">Ġnumber</div><div style=\"display:flex;flex:1;flex-flow:column;gap:inherit\">0.006589970085769892</div></div></div></div></div>"
            ]
          },
          "metadata": {}
        },
        {
          "output_type": "display_data",
          "data": {
            "text/plain": [
              "<baukit.show.HtmlRepr at 0x7f1dc0394d90>"
            ],
            "text/html": [
              "<div style=\"display:flex;flex:1;flex-flow:column;gap:3px;border-style:ridge;text-align:left\"><div style=\"display:flex;flex:1;flex-flow:row wrap;gap:inherit\"><div style=\"display:flex;flex:1;flex-flow:column;gap:inherit\">3</div><div style=\"display:flex;flex:1;flex-flow:column;gap:inherit\">Ġin</div><div style=\"display:flex;flex:1;flex-flow:column;gap:inherit\">0</div><div style=\"display:flex;flex:1;flex-flow:column;gap:inherit\">0.77973</div><div style=\"display:flex;flex:1;flex-flow:column;gap:inherit\"><div style=\"display:flex;flex:1;flex-flow:row wrap;gap:inherit\"><div style=\"display:flex;flex:1;flex-flow:column;gap:inherit\">Ġin</div><div style=\"display:flex;flex:1;flex-flow:column;gap:inherit\">0.7797311544418335</div></div><div style=\"display:flex;flex:1;flex-flow:row wrap;gap:inherit\"><div style=\"display:flex;flex:1;flex-flow:column;gap:inherit\">Ġof</div><div style=\"display:flex;flex:1;flex-flow:column;gap:inherit\">0.06721622496843338</div></div><div style=\"display:flex;flex:1;flex-flow:row wrap;gap:inherit\"><div style=\"display:flex;flex:1;flex-flow:column;gap:inherit\">Ġto</div><div style=\"display:flex;flex:1;flex-flow:column;gap:inherit\">0.027664517983794212</div></div><div style=\"display:flex;flex:1;flex-flow:row wrap;gap:inherit\"><div style=\"display:flex;flex:1;flex-flow:column;gap:inherit\">Ġon</div><div style=\"display:flex;flex:1;flex-flow:column;gap:inherit\">0.017100142315030098</div></div><div style=\"display:flex;flex:1;flex-flow:row wrap;gap:inherit\"><div style=\"display:flex;flex:1;flex-flow:column;gap:inherit\">-</div><div style=\"display:flex;flex:1;flex-flow:column;gap:inherit\">0.00934868399053812</div></div><div style=\"display:flex;flex:1;flex-flow:row wrap;gap:inherit\"><div style=\"display:flex;flex:1;flex-flow:column;gap:inherit\">Ġis</div><div style=\"display:flex;flex:1;flex-flow:column;gap:inherit\">0.006966990884393454</div></div><div style=\"display:flex;flex:1;flex-flow:row wrap;gap:inherit\"><div style=\"display:flex;flex:1;flex-flow:column;gap:inherit\">,</div><div style=\"display:flex;flex:1;flex-flow:column;gap:inherit\">0.006597371771931648</div></div><div style=\"display:flex;flex:1;flex-flow:row wrap;gap:inherit\"><div style=\"display:flex;flex:1;flex-flow:column;gap:inherit\">Ġhas</div><div style=\"display:flex;flex:1;flex-flow:column;gap:inherit\">0.005992739461362362</div></div><div style=\"display:flex;flex:1;flex-flow:row wrap;gap:inherit\"><div style=\"display:flex;flex:1;flex-flow:column;gap:inherit\">Ġand</div><div style=\"display:flex;flex:1;flex-flow:column;gap:inherit\">0.00463825510814786</div></div><div style=\"display:flex;flex:1;flex-flow:row wrap;gap:inherit\"><div style=\"display:flex;flex:1;flex-flow:column;gap:inherit\">Ġwith</div><div style=\"display:flex;flex:1;flex-flow:column;gap:inherit\">0.0032363939099013805</div></div></div></div></div>"
            ]
          },
          "metadata": {}
        },
        {
          "output_type": "display_data",
          "data": {
            "text/plain": [
              "<baukit.show.HtmlRepr at 0x7f1dc0394c10>"
            ],
            "text/html": [
              "<div style=\"display:flex;flex:1;flex-flow:column;gap:3px;border-style:ridge;text-align:left\"><div style=\"display:flex;flex:1;flex-flow:row wrap;gap:inherit\"><div style=\"display:flex;flex:1;flex-flow:column;gap:inherit\">4</div><div style=\"display:flex;flex:1;flex-flow:column;gap:inherit\">ĠFrance</div><div style=\"display:flex;flex:1;flex-flow:column;gap:inherit\">14</div><div style=\"display:flex;flex:1;flex-flow:column;gap:inherit\">0.01185</div><div style=\"display:flex;flex:1;flex-flow:column;gap:inherit\"><div style=\"display:flex;flex:1;flex-flow:row wrap;gap:inherit\"><div style=\"display:flex;flex:1;flex-flow:column;gap:inherit\">Ġthe</div><div style=\"display:flex;flex:1;flex-flow:column;gap:inherit\">0.25238895416259766</div></div><div style=\"display:flex;flex:1;flex-flow:row wrap;gap:inherit\"><div style=\"display:flex;flex:1;flex-flow:column;gap:inherit\">ĠChina</div><div style=\"display:flex;flex:1;flex-flow:column;gap:inherit\">0.03683881461620331</div></div><div style=\"display:flex;flex:1;flex-flow:row wrap;gap:inherit\"><div style=\"display:flex;flex:1;flex-flow:column;gap:inherit\">ĠNorth</div><div style=\"display:flex;flex:1;flex-flow:column;gap:inherit\">0.0296307560056448</div></div><div style=\"display:flex;flex:1;flex-flow:row wrap;gap:inherit\"><div style=\"display:flex;flex:1;flex-flow:column;gap:inherit\">ĠCanada</div><div style=\"display:flex;flex:1;flex-flow:column;gap:inherit\">0.02786654233932495</div></div><div style=\"display:flex;flex:1;flex-flow:row wrap;gap:inherit\"><div style=\"display:flex;flex:1;flex-flow:column;gap:inherit\">ĠEurope</div><div style=\"display:flex;flex:1;flex-flow:column;gap:inherit\">0.025925669819116592</div></div><div style=\"display:flex;flex:1;flex-flow:row wrap;gap:inherit\"><div style=\"display:flex;flex:1;flex-flow:column;gap:inherit\">ĠIndia</div><div style=\"display:flex;flex:1;flex-flow:column;gap:inherit\">0.02254636026918888</div></div><div style=\"display:flex;flex:1;flex-flow:row wrap;gap:inherit\"><div style=\"display:flex;flex:1;flex-flow:column;gap:inherit\">ĠAmerica</div><div style=\"display:flex;flex:1;flex-flow:column;gap:inherit\">0.021254325285553932</div></div><div style=\"display:flex;flex:1;flex-flow:row wrap;gap:inherit\"><div style=\"display:flex;flex:1;flex-flow:column;gap:inherit\">ĠSouth</div><div style=\"display:flex;flex:1;flex-flow:column;gap:inherit\">0.020114518702030182</div></div><div style=\"display:flex;flex:1;flex-flow:row wrap;gap:inherit\"><div style=\"display:flex;flex:1;flex-flow:column;gap:inherit\">ĠAustralia</div><div style=\"display:flex;flex:1;flex-flow:column;gap:inherit\">0.01820886880159378</div></div><div style=\"display:flex;flex:1;flex-flow:row wrap;gap:inherit\"><div style=\"display:flex;flex:1;flex-flow:column;gap:inherit\">ĠEngland</div><div style=\"display:flex;flex:1;flex-flow:column;gap:inherit\">0.013742729090154171</div></div></div></div></div>"
            ]
          },
          "metadata": {}
        },
        {
          "output_type": "display_data",
          "data": {
            "text/plain": [
              "<baukit.show.HtmlRepr at 0x7f1dc0394f10>"
            ],
            "text/html": [
              "<div style=\"display:flex;flex:1;flex-flow:column;gap:3px;border-style:ridge;text-align:left\"><div style=\"display:flex;flex:1;flex-flow:row wrap;gap:inherit\"><div style=\"display:flex;flex:1;flex-flow:column;gap:inherit\">5</div><div style=\"display:flex;flex:1;flex-flow:column;gap:inherit\">Ġis</div><div style=\"display:flex;flex:1;flex-flow:column;gap:inherit\">2</div><div style=\"display:flex;flex:1;flex-flow:column;gap:inherit\">0.14313</div><div style=\"display:flex;flex:1;flex-flow:column;gap:inherit\"><div style=\"display:flex;flex:1;flex-flow:row wrap;gap:inherit\"><div style=\"display:flex;flex:1;flex-flow:column;gap:inherit\">Ġhas</div><div style=\"display:flex;flex:1;flex-flow:column;gap:inherit\">0.23087985813617706</div></div><div style=\"display:flex;flex:1;flex-flow:row wrap;gap:inherit\"><div style=\"display:flex;flex:1;flex-flow:column;gap:inherit\">,</div><div style=\"display:flex;flex:1;flex-flow:column;gap:inherit\">0.19773226976394653</div></div><div style=\"display:flex;flex:1;flex-flow:row wrap;gap:inherit\"><div style=\"display:flex;flex:1;flex-flow:column;gap:inherit\">Ġis</div><div style=\"display:flex;flex:1;flex-flow:column;gap:inherit\">0.1431281566619873</div></div><div style=\"display:flex;flex:1;flex-flow:row wrap;gap:inherit\"><div style=\"display:flex;flex:1;flex-flow:column;gap:inherit\">Ġto</div><div style=\"display:flex;flex:1;flex-flow:column;gap:inherit\">0.07626923173666</div></div><div style=\"display:flex;flex:1;flex-flow:row wrap;gap:inherit\"><div style=\"display:flex;flex:1;flex-flow:column;gap:inherit\">Ġand</div><div style=\"display:flex;flex:1;flex-flow:column;gap:inherit\">0.027209574356675148</div></div><div style=\"display:flex;flex:1;flex-flow:row wrap;gap:inherit\"><div style=\"display:flex;flex:1;flex-flow:column;gap:inherit\">&#x27;s</div><div style=\"display:flex;flex:1;flex-flow:column;gap:inherit\">0.022918179631233215</div></div><div style=\"display:flex;flex:1;flex-flow:row wrap;gap:inherit\"><div style=\"display:flex;flex:1;flex-flow:column;gap:inherit\">Ġwill</div><div style=\"display:flex;flex:1;flex-flow:column;gap:inherit\">0.019607745110988617</div></div><div style=\"display:flex;flex:1;flex-flow:row wrap;gap:inherit\"><div style=\"display:flex;flex:1;flex-flow:column;gap:inherit\">Ġwas</div><div style=\"display:flex;flex:1;flex-flow:column;gap:inherit\">0.016783040016889572</div></div><div style=\"display:flex;flex:1;flex-flow:row wrap;gap:inherit\"><div style=\"display:flex;flex:1;flex-flow:column;gap:inherit\">Ġin</div><div style=\"display:flex;flex:1;flex-flow:column;gap:inherit\">0.01528649590909481</div></div><div style=\"display:flex;flex:1;flex-flow:row wrap;gap:inherit\"><div style=\"display:flex;flex:1;flex-flow:column;gap:inherit\">Ġwith</div><div style=\"display:flex;flex:1;flex-flow:column;gap:inherit\">0.010242373682558537</div></div></div></div></div>"
            ]
          },
          "metadata": {}
        },
        {
          "output_type": "display_data",
          "data": {
            "text/plain": [
              "<baukit.show.HtmlRepr at 0x7f1dc0394d50>"
            ],
            "text/html": [
              "<div style=\"display:flex;flex:1;flex-flow:column;gap:3px;border-style:ridge;text-align:left\"><div style=\"display:flex;flex:1;flex-flow:row wrap;gap:inherit\"><div style=\"display:flex;flex:1;flex-flow:column;gap:inherit\">6</div><div style=\"display:flex;flex:1;flex-flow:column;gap:inherit\">ĠRome</div><div style=\"display:flex;flex:1;flex-flow:column;gap:inherit\">245</div><div style=\"display:flex;flex:1;flex-flow:column;gap:inherit\">0.0005</div><div style=\"display:flex;flex:1;flex-flow:column;gap:inherit\"><div style=\"display:flex;flex:1;flex-flow:row wrap;gap:inherit\"><div style=\"display:flex;flex:1;flex-flow:column;gap:inherit\">Ġnow</div><div style=\"display:flex;flex:1;flex-flow:column;gap:inherit\">0.051786016672849655</div></div><div style=\"display:flex;flex:1;flex-flow:row wrap;gap:inherit\"><div style=\"display:flex;flex:1;flex-flow:column;gap:inherit\">Ġin</div><div style=\"display:flex;flex:1;flex-flow:column;gap:inherit\">0.03042183630168438</div></div><div style=\"display:flex;flex:1;flex-flow:row wrap;gap:inherit\"><div style=\"display:flex;flex:1;flex-flow:column;gap:inherit\">Ġthe</div><div style=\"display:flex;flex:1;flex-flow:column;gap:inherit\">0.030367571860551834</div></div><div style=\"display:flex;flex:1;flex-flow:row wrap;gap:inherit\"><div style=\"display:flex;flex:1;flex-flow:column;gap:inherit\">Ġset</div><div style=\"display:flex;flex:1;flex-flow:column;gap:inherit\">0.02348988689482212</div></div><div style=\"display:flex;flex:1;flex-flow:row wrap;gap:inherit\"><div style=\"display:flex;flex:1;flex-flow:column;gap:inherit\">Ġexpected</div><div style=\"display:flex;flex:1;flex-flow:column;gap:inherit\">0.021594213321805</div></div><div style=\"display:flex;flex:1;flex-flow:row wrap;gap:inherit\"><div style=\"display:flex;flex:1;flex-flow:column;gap:inherit\">Ġbeing</div><div style=\"display:flex;flex:1;flex-flow:column;gap:inherit\">0.018841274082660675</div></div><div style=\"display:flex;flex:1;flex-flow:row wrap;gap:inherit\"><div style=\"display:flex;flex:1;flex-flow:column;gap:inherit\">Ġalso</div><div style=\"display:flex;flex:1;flex-flow:column;gap:inherit\">0.017922045662999153</div></div><div style=\"display:flex;flex:1;flex-flow:row wrap;gap:inherit\"><div style=\"display:flex;flex:1;flex-flow:column;gap:inherit\">Ġstruggling</div><div style=\"display:flex;flex:1;flex-flow:column;gap:inherit\">0.017813535407185555</div></div><div style=\"display:flex;flex:1;flex-flow:row wrap;gap:inherit\"><div style=\"display:flex;flex:1;flex-flow:column;gap:inherit\">Ġunder</div><div style=\"display:flex;flex:1;flex-flow:column;gap:inherit\">0.016919001936912537</div></div><div style=\"display:flex;flex:1;flex-flow:row wrap;gap:inherit\"><div style=\"display:flex;flex:1;flex-flow:column;gap:inherit\">Ġa</div><div style=\"display:flex;flex:1;flex-flow:column;gap:inherit\">0.016079319640994072</div></div></div></div></div>"
            ]
          },
          "metadata": {}
        },
        {
          "output_type": "display_data",
          "data": {
            "text/plain": [
              "<baukit.show.HtmlRepr at 0x7f1dc0394d90>"
            ],
            "text/html": [
              "<div style=\"display:flex;flex:1;flex-flow:column;gap:3px;border-style:ridge;text-align:left\"><div style=\"display:flex;flex:1;flex-flow:row wrap;gap:inherit\"><div style=\"display:flex;flex:1;flex-flow:column;gap:inherit\">7</div><div style=\"display:flex;flex:1;flex-flow:column;gap:inherit\">.</div><div style=\"display:flex;flex:1;flex-flow:column;gap:inherit\">1</div><div style=\"display:flex;flex:1;flex-flow:column;gap:inherit\">0.18497</div><div style=\"display:flex;flex:1;flex-flow:column;gap:inherit\"><div style=\"display:flex;flex:1;flex-flow:row wrap;gap:inherit\"><div style=\"display:flex;flex:1;flex-flow:column;gap:inherit\">,</div><div style=\"display:flex;flex:1;flex-flow:column;gap:inherit\">0.5724207758903503</div></div><div style=\"display:flex;flex:1;flex-flow:row wrap;gap:inherit\"><div style=\"display:flex;flex:1;flex-flow:column;gap:inherit\">.</div><div style=\"display:flex;flex:1;flex-flow:column;gap:inherit\">0.18497495353221893</div></div><div style=\"display:flex;flex:1;flex-flow:row wrap;gap:inherit\"><div style=\"display:flex;flex:1;flex-flow:column;gap:inherit\">Ġand</div><div style=\"display:flex;flex:1;flex-flow:column;gap:inherit\">0.05201917141675949</div></div><div style=\"display:flex;flex:1;flex-flow:row wrap;gap:inherit\"><div style=\"display:flex;flex:1;flex-flow:column;gap:inherit\">Ġin</div><div style=\"display:flex;flex:1;flex-flow:column;gap:inherit\">0.01511328388005495</div></div><div style=\"display:flex;flex:1;flex-flow:row wrap;gap:inherit\"><div style=\"display:flex;flex:1;flex-flow:column;gap:inherit\">&#x27;s</div><div style=\"display:flex;flex:1;flex-flow:column;gap:inherit\">0.012641116976737976</div></div><div style=\"display:flex;flex:1;flex-flow:row wrap;gap:inherit\"><div style=\"display:flex;flex:1;flex-flow:column;gap:inherit\">Ġwhere</div><div style=\"display:flex;flex:1;flex-flow:column;gap:inherit\">0.010820195078849792</div></div><div style=\"display:flex;flex:1;flex-flow:row wrap;gap:inherit\"><div style=\"display:flex;flex:1;flex-flow:column;gap:inherit\">Ġwith</div><div style=\"display:flex;flex:1;flex-flow:column;gap:inherit\">0.010128634981811047</div></div><div style=\"display:flex;flex:1;flex-flow:row wrap;gap:inherit\"><div style=\"display:flex;flex:1;flex-flow:column;gap:inherit\">Ġbut</div><div style=\"display:flex;flex:1;flex-flow:column;gap:inherit\">0.009514609351754189</div></div><div style=\"display:flex;flex:1;flex-flow:row wrap;gap:inherit\"><div style=\"display:flex;flex:1;flex-flow:column;gap:inherit\">Ġwhich</div><div style=\"display:flex;flex:1;flex-flow:column;gap:inherit\">0.007014669477939606</div></div><div style=\"display:flex;flex:1;flex-flow:row wrap;gap:inherit\"><div style=\"display:flex;flex:1;flex-flow:column;gap:inherit\">Ġ(</div><div style=\"display:flex;flex:1;flex-flow:column;gap:inherit\">0.006494690198451281</div></div></div></div></div>"
            ]
          },
          "metadata": {}
        }
      ]
    },
    {
      "cell_type": "markdown",
      "source": [
        "*Reference*\n",
        "\n",
        "https://huggingface.co/transformers/v3.0.2/model_doc/gpt2.html,\n",
        "\n",
        "https://github.com/HendrikStrobelt/detecting-fake-text/blob/master/backend/api.py, \n",
        "\n",
        "https://github.com/davidbau/baukit/blob/main/notebooks/using_show_and_widgets.ipynb"
      ],
      "metadata": {
        "id": "53h9xe_bw4gg"
      }
    }
  ]
}